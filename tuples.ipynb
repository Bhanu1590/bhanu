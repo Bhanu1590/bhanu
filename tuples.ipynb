{
 "cells": [
  {
   "cell_type": "markdown",
   "metadata": {},
   "source": [
    "A tuple is similar to list.\n",
    "\n",
    "The diffence between the two is that we can't change the elements of tuple once it is assigned whereas in the list, elements can be changed."
   ]
  },
  {
   "cell_type": "markdown",
   "metadata": {},
   "source": [
    "# tuple creation"
   ]
  },
  {
   "cell_type": "code",
   "execution_count": 4,
   "metadata": {},
   "outputs": [
    {
     "name": "stdout",
     "output_type": "stream",
     "text": [
      "(1, 2, 3)\n",
      "(1, 'bhanu', 52.0, 'prakash')\n",
      "(1, (1, 2, 3), [1, 'bhanu', 52.0, 'prakash'], 'a')\n"
     ]
    }
   ],
   "source": [
    "# empty tuple\n",
    "\n",
    "t = ()\n",
    "\n",
    "# tuple having integers\n",
    "\n",
    "t = (1, 2, 3)\n",
    "print(t)\n",
    "\n",
    "# tuple with mixed data types\n",
    "\n",
    "t = (1, \"bhanu\", 52.0, \"prakash\")\n",
    "\n",
    "print(t)\n",
    "\n",
    "# nested tuples\n",
    "\n",
    "t = (1,(1, 2, 3),[1, \"bhanu\", 52.0, \"prakash\"],'a')\n",
    "print(t)"
   ]
  },
  {
   "cell_type": "code",
   "execution_count": 6,
   "metadata": {},
   "outputs": [
    {
     "data": {
      "text/plain": [
       "str"
      ]
     },
     "execution_count": 6,
     "metadata": {},
     "output_type": "execute_result"
    }
   ],
   "source": [
    "# only pranthesis is not enough for tuples\n",
    "\n",
    "t = ('bhanu')\n",
    "\n",
    "type(t)"
   ]
  },
  {
   "cell_type": "code",
   "execution_count": 13,
   "metadata": {},
   "outputs": [
    {
     "name": "stdout",
     "output_type": "stream",
     "text": [
      "<class 'tuple'>\n"
     ]
    }
   ],
   "source": [
    "# for tuples we need end with comma at the end and pranthesis is optional for tuples \n",
    "\n",
    "t = ('bhanu' ,)\n",
    "\n",
    "type(t)             # and  it shows tuple\n",
    "\n",
    "# or\n",
    "\n",
    "t = 'bhanu' ,\n",
    "\n",
    "print(type(t))"
   ]
  },
  {
   "cell_type": "markdown",
   "metadata": {},
   "source": [
    "# accessing elements in tuple"
   ]
  },
  {
   "cell_type": "code",
   "execution_count": 16,
   "metadata": {},
   "outputs": [
    {
     "name": "stdout",
     "output_type": "stream",
     "text": [
      "('prakash', 'leena', 'budutha', 'amma')\n"
     ]
    }
   ],
   "source": [
    "t = ('bhanu', 'prakash', 'leena', 'budutha', 'amma', 'daddy')\n",
    "\n",
    "print(t[1:-1])"
   ]
  },
  {
   "cell_type": "code",
   "execution_count": 23,
   "metadata": {},
   "outputs": [
    {
     "name": "stdout",
     "output_type": "stream",
     "text": [
      "bhanu\n",
      "daddy\n"
     ]
    }
   ],
   "source": [
    "# nested tuple\n",
    "\n",
    "t = ('bhanu' ,('prakash', 'leena', 'budutha', 'amma', 'daddy'))\n",
    "\n",
    "print(t[-2])\n",
    "\n",
    "print(t[1][-1])           # (t[x][y]) x = tuple address , y = nested tuple address\n"
   ]
  },
  {
   "cell_type": "markdown",
   "metadata": {},
   "source": [
    "# Changing the tuple"
   ]
  },
  {
   "cell_type": "markdown",
   "metadata": {},
   "source": [
    "Unlike lists,tuples are immutable"
   ]
  },
  {
   "cell_type": "markdown",
   "metadata": {},
   "source": [
    "This means that elements of a tuple cannot be changed once it has been assigned. But, if the element is itself a mutable datatype like list, its nested items can be changed."
   ]
  },
  {
   "cell_type": "code",
   "execution_count": 4,
   "metadata": {},
   "outputs": [
    {
     "ename": "TypeError",
     "evalue": "'tuple' object does not support item assignment",
     "output_type": "error",
     "traceback": [
      "\u001b[1;31m---------------------------------------------------------------------------\u001b[0m",
      "\u001b[1;31mTypeError\u001b[0m                                 Traceback (most recent call last)",
      "\u001b[1;32m<ipython-input-4-b10c24662627>\u001b[0m in \u001b[0;36m<module>\u001b[1;34m\u001b[0m\n\u001b[0;32m      3\u001b[0m \u001b[0mt\u001b[0m \u001b[1;33m=\u001b[0m \u001b[1;33m(\u001b[0m\u001b[1;36m1\u001b[0m\u001b[1;33m,\u001b[0m \u001b[1;36m2\u001b[0m\u001b[1;33m,\u001b[0m \u001b[1;36m3\u001b[0m\u001b[1;33m,\u001b[0m \u001b[1;36m7\u001b[0m\u001b[1;33m,\u001b[0m\u001b[1;33m[\u001b[0m\u001b[1;36m4\u001b[0m\u001b[1;33m,\u001b[0m \u001b[1;36m5\u001b[0m\u001b[1;33m,\u001b[0m \u001b[1;36m6\u001b[0m\u001b[1;33m]\u001b[0m\u001b[1;33m)\u001b[0m\u001b[1;33m\u001b[0m\u001b[1;33m\u001b[0m\u001b[0m\n\u001b[0;32m      4\u001b[0m \u001b[1;33m\u001b[0m\u001b[0m\n\u001b[1;32m----> 5\u001b[1;33m \u001b[0mt\u001b[0m\u001b[1;33m[\u001b[0m\u001b[1;36m2\u001b[0m\u001b[1;33m]\u001b[0m \u001b[1;33m=\u001b[0m \u001b[1;34m'x'\u001b[0m              \u001b[1;31m# tuples will not change and it shows type error\u001b[0m\u001b[1;33m\u001b[0m\u001b[1;33m\u001b[0m\u001b[0m\n\u001b[0m",
      "\u001b[1;31mTypeError\u001b[0m: 'tuple' object does not support item assignment"
     ]
    }
   ],
   "source": [
    "# creating tuple\n",
    "\n",
    "t = (1, 2, 3, 7,[4, 5, 6])\n",
    "\n",
    "t[2] = 'x'              # tuples will not change and it shows type error"
   ]
  },
  {
   "cell_type": "code",
   "execution_count": 5,
   "metadata": {},
   "outputs": [
    {
     "name": "stdout",
     "output_type": "stream",
     "text": [
      "(1, 2, 3, 7, [4, 'bhanu', 6])\n"
     ]
    }
   ],
   "source": [
    "t[4][1] = 'bhanu'\n",
    "print(t)"
   ]
  },
  {
   "cell_type": "markdown",
   "metadata": {},
   "source": [
    "# tuple deletion"
   ]
  },
  {
   "cell_type": "code",
   "execution_count": 3,
   "metadata": {},
   "outputs": [],
   "source": [
    "# we cannot change the elements in a tuple. \n",
    "\n",
    "# That also means we cannot delete or remove items from a tuple.\n",
    "\n",
    "# we can delete whole tuple by using del keyword\n",
    "\n",
    "t = (1, 2, 3, 7, 4, 5, 6)\n",
    "\n",
    "del t"
   ]
  },
  {
   "cell_type": "markdown",
   "metadata": {},
   "source": [
    "# tuple count"
   ]
  },
  {
   "cell_type": "code",
   "execution_count": 4,
   "metadata": {},
   "outputs": [
    {
     "data": {
      "text/plain": [
       "2"
      ]
     },
     "execution_count": 4,
     "metadata": {},
     "output_type": "execute_result"
    }
   ],
   "source": [
    "t = (1, 2, 3, 3, 7, 5, 5, 2,  6, 1)\n",
    "\n",
    "t.count(2)"
   ]
  },
  {
   "cell_type": "code",
   "execution_count": 9,
   "metadata": {},
   "outputs": [
    {
     "name": "stdout",
     "output_type": "stream",
     "text": [
      "8\n"
     ]
    }
   ],
   "source": [
    "t = (1, 2, 3, 3, 7, 5, 5, 2,  6, 1)\n",
    "\n",
    "print(t.index(6))"
   ]
  },
  {
   "cell_type": "markdown",
   "metadata": {},
   "source": [
    "# Tuple membership"
   ]
  },
  {
   "cell_type": "code",
   "execution_count": 10,
   "metadata": {},
   "outputs": [
    {
     "name": "stdout",
     "output_type": "stream",
     "text": [
      "True\n"
     ]
    }
   ],
   "source": [
    "# if an item exists in a tuple are not by using keyword \"in\"\n",
    "\n",
    "t = (1, 2, 3, 3, 7, 5, 5, 2,  6, 1)\n",
    "\n",
    "print(6 in t)"
   ]
  },
  {
   "cell_type": "code",
   "execution_count": 2,
   "metadata": {},
   "outputs": [
    {
     "name": "stdout",
     "output_type": "stream",
     "text": [
      "False\n"
     ]
    }
   ],
   "source": [
    "t = (1, 2, 3, 3, 7, 5, 5, 2,  6, 1)\n",
    "\n",
    "print(8 in t)"
   ]
  },
  {
   "cell_type": "markdown",
   "metadata": {},
   "source": [
    "# Built in functions"
   ]
  },
  {
   "cell_type": "code",
   "execution_count": 15,
   "metadata": {},
   "outputs": [
    {
     "name": "stdout",
     "output_type": "stream",
     "text": [
      "[1, 1, 2, 2, 3, 3, 5, 5, 6, 7]\n"
     ]
    }
   ],
   "source": [
    "t = (1, 2, 3, 3, 7, 5, 5, 2,  6, 1)\n",
    "\n",
    "new_t = sorted(t)\n",
    "\n",
    "print(new_t)"
   ]
  },
  {
   "cell_type": "code",
   "execution_count": 17,
   "metadata": {},
   "outputs": [
    {
     "name": "stdout",
     "output_type": "stream",
     "text": [
      "Reverse sorted  numbers: [7, 6, 5, 5, 3, 3, 2, 2, 1, 1]\n"
     ]
    }
   ],
   "source": [
    "print(\"Reverse sorted  numbers:\",sorted(new_t,reverse = True))"
   ]
  },
  {
   "cell_type": "code",
   "execution_count": 23,
   "metadata": {},
   "outputs": [
    {
     "name": "stdout",
     "output_type": "stream",
     "text": [
      "7\n",
      "1\n",
      "35\n"
     ]
    }
   ],
   "source": [
    "# get largest element in tuple\n",
    "\n",
    "t = (1, 2, 3, 3, 7, 5, 5, 2,  6, 1)\n",
    "\n",
    "print(max(t))\n",
    "\n",
    "print(min(t))\n",
    "\n",
    "print(sum(t))"
   ]
  },
  {
   "cell_type": "code",
   "execution_count": 2,
   "metadata": {},
   "outputs": [
    {
     "name": "stdout",
     "output_type": "stream",
     "text": [
      "(1, {56, 68, 5, 6}, 2, 3, 3, 7, 5, 5, 2, 6, 1)\n"
     ]
    }
   ],
   "source": [
    "\n",
    "t = (1,{56,6,5,68}, 2, 3, 3, 7, 5, 5, 2,  6, 1)\n",
    "print(t)\n",
    "\n"
   ]
  },
  {
   "cell_type": "code",
   "execution_count": null,
   "metadata": {},
   "outputs": [],
   "source": []
  }
 ],
 "metadata": {
  "kernelspec": {
   "display_name": "Python 3 (ipykernel)",
   "language": "python",
   "name": "python3"
  },
  "language_info": {
   "codemirror_mode": {
    "name": "ipython",
    "version": 3
   },
   "file_extension": ".py",
   "mimetype": "text/x-python",
   "name": "python",
   "nbconvert_exporter": "python",
   "pygments_lexer": "ipython3",
   "version": "3.9.7"
  }
 },
 "nbformat": 4,
 "nbformat_minor": 4
}
